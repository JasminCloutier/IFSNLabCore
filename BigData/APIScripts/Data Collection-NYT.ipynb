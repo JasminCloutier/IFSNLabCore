{
 "cells": [
  {
   "cell_type": "code",
   "execution_count": null,
   "id": "46573df7",
   "metadata": {},
   "outputs": [],
   "source": [
    "import requests\n",
    "import os\n",
    "import json\n",
    "import itertools\n",
    "import pandas as pd\n",
    "import numpy as np\n",
    "from time import sleep"
   ]
  },
  {
   "cell_type": "code",
   "execution_count": null,
   "id": "8ebbf99c",
   "metadata": {},
   "outputs": [],
   "source": [
    "# NYTimes API call\n",
    "\n",
    "params = {\"apikey\": \"7igHurFQyiEEZRlG9691PnjfFPzwVlER\",\n",
    "          \"published\": []\n",
    "         }\n",
    "months = ['03', '04', '05', '06', '07', '08', '09', '10', '11', '12', \n",
    "          '01', '02', '03', '04', '05', '06', '07', '08', '09', '10', '11', '12', \n",
    "          '01', '02', '03', '04', '05']\n",
    "years = [*itertools.repeat('2019',10),\n",
    "         *itertools.repeat('2020',12), \n",
    "         *itertools.repeat('2021',5)]\n",
    "for (month, year) in zip(months, years):\n",
    "    params[\"published\"].append([month, year])\n",
    "\n",
    "results = {}\n",
    "for period in params[\"published\"]:\n",
    "    url = f\"https://api.nytimes.com/svc/archive/v1/{int(period[1])}/{int(period[0])}.json?api-key={params['apikey']}\"\n",
    "    r = requests.get(url)\n",
    "    key = f\"{period[1]}-{period[0]}\"\n",
    "    results[key] = r.json()\n",
    "    sleep(6)\n"
   ]
  },
  {
   "cell_type": "code",
   "execution_count": null,
   "id": "1acb2fd5",
   "metadata": {},
   "outputs": [],
   "source": [
    "keywords = [\"Coronavirus (2019-nCoV)\", \"Quarantines\"]\n",
    "\n",
    "results_covid_only = {}\n",
    "\n",
    "for month in results.keys():\n",
    "    for item in results[month]['response']['docs']:\n",
    "        key = item['pub_date'][:10]\n",
    "        keyword_counter = 0\n",
    "        if key not in results_covid_only.keys():\n",
    "            results_covid_only[key] = []\n",
    "        for keyword in item['keywords']:\n",
    "            if keyword['value'] in keywords:\n",
    "                keyword_counter += 1\n",
    "        if keyword_counter > 0:\n",
    "            results_covid_only[key].append(item)\n",
    "            "
   ]
  },
  {
   "cell_type": "code",
   "execution_count": null,
   "id": "911ca424",
   "metadata": {},
   "outputs": [],
   "source": [
    "with open(\"nyt.json\", \"w\") as outfile:\n",
    "    json.dump(results_covid_only, outfile)"
   ]
  },
  {
   "cell_type": "code",
   "execution_count": null,
   "id": "00be7405",
   "metadata": {},
   "outputs": [],
   "source": []
  }
 ],
 "metadata": {
  "kernelspec": {
   "display_name": "Python 3 (ipykernel)",
   "language": "python",
   "name": "python3"
  },
  "language_info": {
   "codemirror_mode": {
    "name": "ipython",
    "version": 3
   },
   "file_extension": ".py",
   "mimetype": "text/x-python",
   "name": "python",
   "nbconvert_exporter": "python",
   "pygments_lexer": "ipython3",
   "version": "3.8.12"
  }
 },
 "nbformat": 4,
 "nbformat_minor": 5
}
